{
 "cells": [
  {
   "cell_type": "code",
   "execution_count": 1,
   "id": "2618e73e",
   "metadata": {},
   "outputs": [],
   "source": [
    "import matplotlib.pyplot as plt\n",
    "import pandas as pd\n",
    "import numpy as np"
   ]
  },
  {
   "cell_type": "code",
   "execution_count": 2,
   "id": "5ec81fd7",
   "metadata": {},
   "outputs": [
    {
     "data": {
      "text/html": [
       "<div>\n",
       "<style scoped>\n",
       "    .dataframe tbody tr th:only-of-type {\n",
       "        vertical-align: middle;\n",
       "    }\n",
       "\n",
       "    .dataframe tbody tr th {\n",
       "        vertical-align: top;\n",
       "    }\n",
       "\n",
       "    .dataframe thead th {\n",
       "        text-align: right;\n",
       "    }\n",
       "</style>\n",
       "<table border=\"1\" class=\"dataframe\">\n",
       "  <thead>\n",
       "    <tr style=\"text-align: right;\">\n",
       "      <th></th>\n",
       "      <th>Weather</th>\n",
       "      <th>Track Name</th>\n",
       "      <th>Artist</th>\n",
       "      <th>Album</th>\n",
       "      <th>Image</th>\n",
       "      <th>Popularity</th>\n",
       "    </tr>\n",
       "  </thead>\n",
       "  <tbody>\n",
       "    <tr>\n",
       "      <th>0</th>\n",
       "      <td>Fog</td>\n",
       "      <td>Cold</td>\n",
       "      <td>Novo Amor</td>\n",
       "      <td>Woodgate, NY</td>\n",
       "      <td>https://i.scdn.co/image/ab67616d0000b273ebce80...</td>\n",
       "      <td>0</td>\n",
       "    </tr>\n",
       "    <tr>\n",
       "      <th>1</th>\n",
       "      <td>Fog</td>\n",
       "      <td>Ylang Ylang</td>\n",
       "      <td>FKJ</td>\n",
       "      <td>Ylang Ylang EP</td>\n",
       "      <td>https://i.scdn.co/image/ab67616d0000b273e29bde...</td>\n",
       "      <td>3</td>\n",
       "    </tr>\n",
       "    <tr>\n",
       "      <th>2</th>\n",
       "      <td>Fog</td>\n",
       "      <td>I Wanted to Leave</td>\n",
       "      <td>SYML</td>\n",
       "      <td>I Wanted to Leave (Sitar Version)</td>\n",
       "      <td>https://i.scdn.co/image/ab67616d0000b27359b4f5...</td>\n",
       "      <td>67</td>\n",
       "    </tr>\n",
       "    <tr>\n",
       "      <th>3</th>\n",
       "      <td>Fog</td>\n",
       "      <td>Repeat Until Death</td>\n",
       "      <td>Novo Amor</td>\n",
       "      <td>Birthplace</td>\n",
       "      <td>https://i.scdn.co/image/ab67616d0000b273bb7f48...</td>\n",
       "      <td>70</td>\n",
       "    </tr>\n",
       "    <tr>\n",
       "      <th>4</th>\n",
       "      <td>Fog</td>\n",
       "      <td>Euphor</td>\n",
       "      <td>Novo Amor</td>\n",
       "      <td>Heiress</td>\n",
       "      <td>https://i.scdn.co/image/ab67616d0000b273d309a3...</td>\n",
       "      <td>68</td>\n",
       "    </tr>\n",
       "    <tr>\n",
       "      <th>...</th>\n",
       "      <td>...</td>\n",
       "      <td>...</td>\n",
       "      <td>...</td>\n",
       "      <td>...</td>\n",
       "      <td>...</td>\n",
       "      <td>...</td>\n",
       "    </tr>\n",
       "    <tr>\n",
       "      <th>6363</th>\n",
       "      <td>Clear</td>\n",
       "      <td>If You're Over Me</td>\n",
       "      <td>Years &amp; Years</td>\n",
       "      <td>If You're Over Me</td>\n",
       "      <td>https://i.scdn.co/image/ab67616d0000b273bdee29...</td>\n",
       "      <td>55</td>\n",
       "    </tr>\n",
       "    <tr>\n",
       "      <th>6364</th>\n",
       "      <td>Clear</td>\n",
       "      <td>We Can Do Better</td>\n",
       "      <td>Matt Simons</td>\n",
       "      <td>After The Landslide</td>\n",
       "      <td>https://i.scdn.co/image/ab67616d0000b2735184ac...</td>\n",
       "      <td>58</td>\n",
       "    </tr>\n",
       "    <tr>\n",
       "      <th>6365</th>\n",
       "      <td>Clear</td>\n",
       "      <td>Broken &amp; Beautiful</td>\n",
       "      <td>Kelly Clarkson</td>\n",
       "      <td>Broken &amp; Beautiful</td>\n",
       "      <td>https://i.scdn.co/image/ab67616d0000b27353cbbc...</td>\n",
       "      <td>66</td>\n",
       "    </tr>\n",
       "    <tr>\n",
       "      <th>6366</th>\n",
       "      <td>Clear</td>\n",
       "      <td>Wave of You</td>\n",
       "      <td>Surfaces</td>\n",
       "      <td>Pacifico</td>\n",
       "      <td>https://i.scdn.co/image/ab67616d0000b27300d5a8...</td>\n",
       "      <td>62</td>\n",
       "    </tr>\n",
       "    <tr>\n",
       "      <th>6367</th>\n",
       "      <td>Clear</td>\n",
       "      <td>HONEY</td>\n",
       "      <td>Derivakat</td>\n",
       "      <td>HONEY</td>\n",
       "      <td>https://i.scdn.co/image/ab67616d0000b2734a3d3d...</td>\n",
       "      <td>52</td>\n",
       "    </tr>\n",
       "  </tbody>\n",
       "</table>\n",
       "<p>6368 rows × 6 columns</p>\n",
       "</div>"
      ],
      "text/plain": [
       "     Weather          Track Name          Artist  \\\n",
       "0        Fog                Cold       Novo Amor   \n",
       "1        Fog         Ylang Ylang             FKJ   \n",
       "2        Fog   I Wanted to Leave            SYML   \n",
       "3        Fog  Repeat Until Death       Novo Amor   \n",
       "4        Fog              Euphor       Novo Amor   \n",
       "...      ...                 ...             ...   \n",
       "6363   Clear   If You're Over Me   Years & Years   \n",
       "6364   Clear    We Can Do Better     Matt Simons   \n",
       "6365   Clear  Broken & Beautiful  Kelly Clarkson   \n",
       "6366   Clear         Wave of You        Surfaces   \n",
       "6367   Clear               HONEY       Derivakat   \n",
       "\n",
       "                                  Album  \\\n",
       "0                          Woodgate, NY   \n",
       "1                        Ylang Ylang EP   \n",
       "2     I Wanted to Leave (Sitar Version)   \n",
       "3                            Birthplace   \n",
       "4                               Heiress   \n",
       "...                                 ...   \n",
       "6363                  If You're Over Me   \n",
       "6364                After The Landslide   \n",
       "6365                 Broken & Beautiful   \n",
       "6366                           Pacifico   \n",
       "6367                              HONEY   \n",
       "\n",
       "                                                  Image  Popularity  \n",
       "0     https://i.scdn.co/image/ab67616d0000b273ebce80...           0  \n",
       "1     https://i.scdn.co/image/ab67616d0000b273e29bde...           3  \n",
       "2     https://i.scdn.co/image/ab67616d0000b27359b4f5...          67  \n",
       "3     https://i.scdn.co/image/ab67616d0000b273bb7f48...          70  \n",
       "4     https://i.scdn.co/image/ab67616d0000b273d309a3...          68  \n",
       "...                                                 ...         ...  \n",
       "6363  https://i.scdn.co/image/ab67616d0000b273bdee29...          55  \n",
       "6364  https://i.scdn.co/image/ab67616d0000b2735184ac...          58  \n",
       "6365  https://i.scdn.co/image/ab67616d0000b27353cbbc...          66  \n",
       "6366  https://i.scdn.co/image/ab67616d0000b27300d5a8...          62  \n",
       "6367  https://i.scdn.co/image/ab67616d0000b2734a3d3d...          52  \n",
       "\n",
       "[6368 rows x 6 columns]"
      ]
     },
     "execution_count": 2,
     "metadata": {},
     "output_type": "execute_result"
    }
   ],
   "source": [
    "df = pd.read_csv('data.csv')\n",
    "df"
   ]
  },
  {
   "cell_type": "code",
   "execution_count": 5,
   "id": "031f19ce",
   "metadata": {},
   "outputs": [
    {
     "data": {
      "text/plain": [
       "47.21890703517588"
      ]
     },
     "execution_count": 5,
     "metadata": {},
     "output_type": "execute_result"
    }
   ],
   "source": [
    "df.Popularity.mean()"
   ]
  },
  {
   "cell_type": "code",
   "execution_count": 6,
   "id": "9317f902",
   "metadata": {},
   "outputs": [
    {
     "data": {
      "text/plain": [
       "50.0"
      ]
     },
     "execution_count": 6,
     "metadata": {},
     "output_type": "execute_result"
    }
   ],
   "source": [
    "df.Popularity.median()"
   ]
  },
  {
   "cell_type": "code",
   "execution_count": 7,
   "id": "a19768a0",
   "metadata": {},
   "outputs": [
    {
     "data": {
      "text/plain": [
       "0    0\n",
       "Name: Popularity, dtype: int64"
      ]
     },
     "execution_count": 7,
     "metadata": {},
     "output_type": "execute_result"
    }
   ],
   "source": [
    "df.Popularity.mode()"
   ]
  },
  {
   "cell_type": "code",
   "execution_count": 8,
   "id": "2a963c73",
   "metadata": {},
   "outputs": [
    {
     "data": {
      "text/plain": [
       "99"
      ]
     },
     "execution_count": 8,
     "metadata": {},
     "output_type": "execute_result"
    }
   ],
   "source": [
    "df.Popularity.max()\n"
   ]
  },
  {
   "cell_type": "code",
   "execution_count": 9,
   "id": "fe8a585c",
   "metadata": {},
   "outputs": [
    {
     "data": {
      "text/plain": [
       "0"
      ]
     },
     "execution_count": 9,
     "metadata": {},
     "output_type": "execute_result"
    }
   ],
   "source": [
    "df.Popularity.min()"
   ]
  },
  {
   "cell_type": "code",
   "execution_count": 10,
   "id": "5d96afa9",
   "metadata": {},
   "outputs": [
    {
     "data": {
      "text/plain": [
       "612.0346856593419"
      ]
     },
     "execution_count": 10,
     "metadata": {},
     "output_type": "execute_result"
    }
   ],
   "source": [
    "df.Popularity.var()"
   ]
  },
  {
   "cell_type": "code",
   "execution_count": 11,
   "id": "8ea80290",
   "metadata": {},
   "outputs": [
    {
     "data": {
      "text/plain": [
       "24.739334786112213"
      ]
     },
     "execution_count": 11,
     "metadata": {},
     "output_type": "execute_result"
    }
   ],
   "source": [
    "df.Popularity.std()"
   ]
  },
  {
   "cell_type": "code",
   "execution_count": null,
   "id": "f10e4d04",
   "metadata": {},
   "outputs": [],
   "source": []
  }
 ],
 "metadata": {
  "kernelspec": {
   "display_name": "Python 3 (ipykernel)",
   "language": "python",
   "name": "python3"
  },
  "language_info": {
   "codemirror_mode": {
    "name": "ipython",
    "version": 3
   },
   "file_extension": ".py",
   "mimetype": "text/x-python",
   "name": "python",
   "nbconvert_exporter": "python",
   "pygments_lexer": "ipython3",
   "version": "3.11.4"
  }
 },
 "nbformat": 4,
 "nbformat_minor": 5
}
